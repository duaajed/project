{
 "cells": [
  {
   "cell_type": "markdown",
   "id": "156a6bb6",
   "metadata": {},
   "source": [
    "# Import Necessary Libraries"
   ]
  },
  {
   "cell_type": "code",
   "execution_count": 242,
   "id": "03fb529c",
   "metadata": {},
   "outputs": [],
   "source": [
    "# Import necessary libraries\n",
    "import pandas as pd\n",
    "import numpy as np\n",
    "import matplotlib.pyplot as plt\n",
    "import seaborn as sns\n"
   ]
  },
  {
   "cell_type": "markdown",
   "id": "0ba3e05e",
   "metadata": {},
   "source": [
    "# Load the dataset and Check the shape of the dataset¶"
   ]
  },
  {
   "cell_type": "code",
   "execution_count": 243,
   "id": "5eb6122b",
   "metadata": {},
   "outputs": [
    {
     "name": "stdout",
     "output_type": "stream",
     "text": [
      "(525, 6)\n",
      "\n",
      "Number of rows : 525\n",
      "\n",
      "Number of columns : 6\n"
     ]
    }
   ],
   "source": [
    "# Load the data from the CSV file\n",
    "data = pd.read_csv('Bookings.csv')\n",
    "\n",
    "print(data.shape)\n",
    "shape = data.shape\n",
    "print('\\nNumber of rows :', shape[0])\n",
    "print('\\nNumber of columns :', shape[1])\n"
   ]
  },
  {
   "cell_type": "code",
   "execution_count": 244,
   "id": "aef34867",
   "metadata": {},
   "outputs": [
    {
     "data": {
      "text/html": [
       "<div>\n",
       "<style scoped>\n",
       "    .dataframe tbody tr th:only-of-type {\n",
       "        vertical-align: middle;\n",
       "    }\n",
       "\n",
       "    .dataframe tbody tr th {\n",
       "        vertical-align: top;\n",
       "    }\n",
       "\n",
       "    .dataframe thead th {\n",
       "        text-align: right;\n",
       "    }\n",
       "</style>\n",
       "<table border=\"1\" class=\"dataframe\">\n",
       "  <thead>\n",
       "    <tr style=\"text-align: right;\">\n",
       "      <th></th>\n",
       "      <th>Unnamed: 0</th>\n",
       "      <th>Hotel_Name</th>\n",
       "      <th>Review</th>\n",
       "      <th>Total_Review</th>\n",
       "      <th>Rating</th>\n",
       "      <th>Location</th>\n",
       "    </tr>\n",
       "  </thead>\n",
       "  <tbody>\n",
       "    <tr>\n",
       "      <th>0</th>\n",
       "      <td>0</td>\n",
       "      <td>Oakwood Residence Midtown East</td>\n",
       "      <td>Superb</td>\n",
       "      <td>28</td>\n",
       "      <td>9.1</td>\n",
       "      <td>Murray Hill</td>\n",
       "    </tr>\n",
       "    <tr>\n",
       "      <th>1</th>\n",
       "      <td>1</td>\n",
       "      <td>Murray Hill East Suites</td>\n",
       "      <td>Good</td>\n",
       "      <td>52</td>\n",
       "      <td>7.6</td>\n",
       "      <td>Murray Hill</td>\n",
       "    </tr>\n",
       "    <tr>\n",
       "      <th>2</th>\n",
       "      <td>2</td>\n",
       "      <td>The Herald 8 by LuxUrban</td>\n",
       "      <td>Good</td>\n",
       "      <td>2,870</td>\n",
       "      <td>7.8</td>\n",
       "      <td>Manhattan</td>\n",
       "    </tr>\n",
       "    <tr>\n",
       "      <th>3</th>\n",
       "      <td>3</td>\n",
       "      <td>The Cloud One New York-Downtown, by the Motel ...</td>\n",
       "      <td>Very good</td>\n",
       "      <td>975</td>\n",
       "      <td>8.3</td>\n",
       "      <td>Wall Street - Financial District</td>\n",
       "    </tr>\n",
       "    <tr>\n",
       "      <th>4</th>\n",
       "      <td>4</td>\n",
       "      <td>Pod Times Square</td>\n",
       "      <td>Very good</td>\n",
       "      <td>13,951</td>\n",
       "      <td>8.1</td>\n",
       "      <td>Hell's Kitchen</td>\n",
       "    </tr>\n",
       "  </tbody>\n",
       "</table>\n",
       "</div>"
      ],
      "text/plain": [
       "   Unnamed: 0                                         Hotel_Name      Review  \\\n",
       "0           0                     Oakwood Residence Midtown East     Superb    \n",
       "1           1                            Murray Hill East Suites       Good    \n",
       "2           2                           The Herald 8 by LuxUrban       Good    \n",
       "3           3  The Cloud One New York-Downtown, by the Motel ...  Very good    \n",
       "4           4                                   Pod Times Square  Very good    \n",
       "\n",
       "  Total_Review  Rating                           Location  \n",
       "0           28     9.1                       Murray Hill   \n",
       "1           52     7.6                       Murray Hill   \n",
       "2        2,870     7.8                         Manhattan   \n",
       "3          975     8.3  Wall Street - Financial District   \n",
       "4       13,951     8.1                    Hell's Kitchen   "
      ]
     },
     "execution_count": 244,
     "metadata": {},
     "output_type": "execute_result"
    }
   ],
   "source": [
    "\n",
    "# Look at first 5 rows of the data\n",
    "data.head()"
   ]
  },
  {
   "cell_type": "code",
   "execution_count": 245,
   "id": "9230ab86",
   "metadata": {},
   "outputs": [
    {
     "data": {
      "text/html": [
       "<div>\n",
       "<style scoped>\n",
       "    .dataframe tbody tr th:only-of-type {\n",
       "        vertical-align: middle;\n",
       "    }\n",
       "\n",
       "    .dataframe tbody tr th {\n",
       "        vertical-align: top;\n",
       "    }\n",
       "\n",
       "    .dataframe thead th {\n",
       "        text-align: right;\n",
       "    }\n",
       "</style>\n",
       "<table border=\"1\" class=\"dataframe\">\n",
       "  <thead>\n",
       "    <tr style=\"text-align: right;\">\n",
       "      <th></th>\n",
       "      <th>Unnamed: 0</th>\n",
       "      <th>Hotel_Name</th>\n",
       "      <th>Review</th>\n",
       "      <th>Total_Review</th>\n",
       "      <th>Rating</th>\n",
       "      <th>Location</th>\n",
       "    </tr>\n",
       "  </thead>\n",
       "  <tbody>\n",
       "    <tr>\n",
       "      <th>520</th>\n",
       "      <td>520</td>\n",
       "      <td>Fantastic 3BR At Financial District</td>\n",
       "      <td>NaN</td>\n",
       "      <td>NaN</td>\n",
       "      <td>NaN</td>\n",
       "      <td>Wall Street - Financial District</td>\n",
       "    </tr>\n",
       "    <tr>\n",
       "      <th>521</th>\n",
       "      <td>521</td>\n",
       "      <td>3 Bedroom Apartment In Midtown East</td>\n",
       "      <td>NaN</td>\n",
       "      <td>NaN</td>\n",
       "      <td>NaN</td>\n",
       "      <td>Manhattan</td>\n",
       "    </tr>\n",
       "    <tr>\n",
       "      <th>522</th>\n",
       "      <td>522</td>\n",
       "      <td>2BD 1BA Apartment At Financial District</td>\n",
       "      <td>NaN</td>\n",
       "      <td>NaN</td>\n",
       "      <td>NaN</td>\n",
       "      <td>Wall Street - Financial District</td>\n",
       "    </tr>\n",
       "    <tr>\n",
       "      <th>523</th>\n",
       "      <td>523</td>\n",
       "      <td>2BD 1BA Apartment At Wall Street</td>\n",
       "      <td>NaN</td>\n",
       "      <td>NaN</td>\n",
       "      <td>NaN</td>\n",
       "      <td>Wall Street - Financial District</td>\n",
       "    </tr>\n",
       "    <tr>\n",
       "      <th>524</th>\n",
       "      <td>524</td>\n",
       "      <td>Two BD Apartment At Midtown East</td>\n",
       "      <td>NaN</td>\n",
       "      <td>NaN</td>\n",
       "      <td>NaN</td>\n",
       "      <td>Manhattan</td>\n",
       "    </tr>\n",
       "  </tbody>\n",
       "</table>\n",
       "</div>"
      ],
      "text/plain": [
       "     Unnamed: 0                               Hotel_Name Review Total_Review  \\\n",
       "520         520      Fantastic 3BR At Financial District    NaN          NaN   \n",
       "521         521      3 Bedroom Apartment In Midtown East    NaN          NaN   \n",
       "522         522  2BD 1BA Apartment At Financial District    NaN          NaN   \n",
       "523         523         2BD 1BA Apartment At Wall Street    NaN          NaN   \n",
       "524         524         Two BD Apartment At Midtown East    NaN          NaN   \n",
       "\n",
       "     Rating                           Location  \n",
       "520     NaN  Wall Street - Financial District   \n",
       "521     NaN                         Manhattan   \n",
       "522     NaN  Wall Street - Financial District   \n",
       "523     NaN  Wall Street - Financial District   \n",
       "524     NaN                         Manhattan   "
      ]
     },
     "execution_count": 245,
     "metadata": {},
     "output_type": "execute_result"
    }
   ],
   "source": [
    "# Look at last 5 rows of the data\n",
    "data.tail()"
   ]
  },
  {
   "cell_type": "code",
   "execution_count": 246,
   "id": "33dff789",
   "metadata": {},
   "outputs": [
    {
     "data": {
      "text/plain": [
       "Index(['Unnamed: 0', 'Hotel_Name', 'Review', 'Total_Review', 'Rating',\n",
       "       'Location'],\n",
       "      dtype='object')"
      ]
     },
     "execution_count": 246,
     "metadata": {},
     "output_type": "execute_result"
    }
   ],
   "source": [
    "data.columns"
   ]
  },
  {
   "cell_type": "code",
   "execution_count": 247,
   "id": "b4f14445",
   "metadata": {},
   "outputs": [],
   "source": [
    "data.drop('Unnamed: 0', axis=1, inplace=True)"
   ]
  },
  {
   "cell_type": "code",
   "execution_count": 248,
   "id": "ede046ed",
   "metadata": {},
   "outputs": [
    {
     "data": {
      "text/plain": [
       "Index(['Hotel_Name', 'Review', 'Total_Review', 'Rating', 'Location'], dtype='object')"
      ]
     },
     "execution_count": 248,
     "metadata": {},
     "output_type": "execute_result"
    }
   ],
   "source": [
    "data.columns"
   ]
  },
  {
   "cell_type": "code",
   "execution_count": 249,
   "id": "2a932864",
   "metadata": {},
   "outputs": [
    {
     "data": {
      "text/plain": [
       "Hotel_Name       object\n",
       "Review           object\n",
       "Total_Review     object\n",
       "Rating          float64\n",
       "Location         object\n",
       "dtype: object"
      ]
     },
     "execution_count": 249,
     "metadata": {},
     "output_type": "execute_result"
    }
   ],
   "source": [
    "data.dtypes"
   ]
  },
  {
   "cell_type": "code",
   "execution_count": 250,
   "id": "5236e0e2",
   "metadata": {},
   "outputs": [],
   "source": [
    " #remove comma  \n",
    "data[\"Total_Review\"] = data[\"Total_Review\"].replace(\",\", \"\", regex=True) \n",
    "data \n",
    "\n",
    "data['Total_Review'] = data['Total_Review'].str.extract('(\\d+)')\n",
    "\n",
    "# Convert the 'Total_Review' string to float\n",
    "data['Total_Review']= data['Total_Review'].astype(float)"
   ]
  },
  {
   "cell_type": "code",
   "execution_count": 251,
   "id": "10776b24",
   "metadata": {},
   "outputs": [
    {
     "data": {
      "text/plain": [
       "Hotel_Name       object\n",
       "Review           object\n",
       "Total_Review    float64\n",
       "Rating          float64\n",
       "Location         object\n",
       "dtype: object"
      ]
     },
     "execution_count": 251,
     "metadata": {},
     "output_type": "execute_result"
    }
   ],
   "source": [
    "data.dtypes"
   ]
  },
  {
   "cell_type": "code",
   "execution_count": 252,
   "id": "81668822",
   "metadata": {},
   "outputs": [
    {
     "data": {
      "text/plain": [
       "Hotel_Name        0\n",
       "Review          200\n",
       "Total_Review    200\n",
       "Rating          210\n",
       "Location          0\n",
       "dtype: int64"
      ]
     },
     "execution_count": 252,
     "metadata": {},
     "output_type": "execute_result"
    }
   ],
   "source": [
    "data.isna().sum()"
   ]
  },
  {
   "cell_type": "markdown",
   "id": "e3b4602d",
   "metadata": {},
   "source": [
    "Dataset has missing values in the 'Review', 'Total_Review', and 'Rating' columns."
   ]
  },
  {
   "cell_type": "code",
   "execution_count": 253,
   "id": "9a56f157",
   "metadata": {},
   "outputs": [],
   "source": [
    "# Fill missing values in the 'Review', 'Total_Review', and 'Rating' columns with the mean of each column\n",
    "data['Total_Review'].fillna(data['Total_Review'].mean(), inplace=True)\n",
    "data['Rating'].fillna(data['Rating'].mean(), inplace=True)"
   ]
  },
  {
   "cell_type": "code",
   "execution_count": 254,
   "id": "f7105422",
   "metadata": {},
   "outputs": [],
   "source": [
    "data['Review'] = data['Review'].fillna('No review')"
   ]
  },
  {
   "cell_type": "code",
   "execution_count": 255,
   "id": "14dd51bc",
   "metadata": {},
   "outputs": [
    {
     "data": {
      "text/plain": [
       "Hotel_Name      0\n",
       "Review          0\n",
       "Total_Review    0\n",
       "Rating          0\n",
       "Location        0\n",
       "dtype: int64"
      ]
     },
     "execution_count": 255,
     "metadata": {},
     "output_type": "execute_result"
    }
   ],
   "source": [
    "data.isna().sum()"
   ]
  },
  {
   "cell_type": "code",
   "execution_count": 256,
   "id": "2b491df9",
   "metadata": {},
   "outputs": [
    {
     "data": {
      "text/plain": [
       "(525, 5)"
      ]
     },
     "execution_count": 256,
     "metadata": {},
     "output_type": "execute_result"
    }
   ],
   "source": [
    "data.shape"
   ]
  },
  {
   "cell_type": "code",
   "execution_count": 257,
   "id": "113c48d8",
   "metadata": {},
   "outputs": [
    {
     "data": {
      "text/html": [
       "<div>\n",
       "<style scoped>\n",
       "    .dataframe tbody tr th:only-of-type {\n",
       "        vertical-align: middle;\n",
       "    }\n",
       "\n",
       "    .dataframe tbody tr th {\n",
       "        vertical-align: top;\n",
       "    }\n",
       "\n",
       "    .dataframe thead th {\n",
       "        text-align: right;\n",
       "    }\n",
       "</style>\n",
       "<table border=\"1\" class=\"dataframe\">\n",
       "  <thead>\n",
       "    <tr style=\"text-align: right;\">\n",
       "      <th></th>\n",
       "      <th>Hotel_Name</th>\n",
       "      <th>Review</th>\n",
       "      <th>Total_Review</th>\n",
       "      <th>Rating</th>\n",
       "      <th>Location</th>\n",
       "    </tr>\n",
       "  </thead>\n",
       "  <tbody>\n",
       "    <tr>\n",
       "      <th>520</th>\n",
       "      <td>Fantastic 3BR At Financial District</td>\n",
       "      <td>No review</td>\n",
       "      <td>1771.630769</td>\n",
       "      <td>7.883492</td>\n",
       "      <td>Wall Street - Financial District</td>\n",
       "    </tr>\n",
       "    <tr>\n",
       "      <th>521</th>\n",
       "      <td>3 Bedroom Apartment In Midtown East</td>\n",
       "      <td>No review</td>\n",
       "      <td>1771.630769</td>\n",
       "      <td>7.883492</td>\n",
       "      <td>Manhattan</td>\n",
       "    </tr>\n",
       "    <tr>\n",
       "      <th>522</th>\n",
       "      <td>2BD 1BA Apartment At Financial District</td>\n",
       "      <td>No review</td>\n",
       "      <td>1771.630769</td>\n",
       "      <td>7.883492</td>\n",
       "      <td>Wall Street - Financial District</td>\n",
       "    </tr>\n",
       "    <tr>\n",
       "      <th>523</th>\n",
       "      <td>2BD 1BA Apartment At Wall Street</td>\n",
       "      <td>No review</td>\n",
       "      <td>1771.630769</td>\n",
       "      <td>7.883492</td>\n",
       "      <td>Wall Street - Financial District</td>\n",
       "    </tr>\n",
       "    <tr>\n",
       "      <th>524</th>\n",
       "      <td>Two BD Apartment At Midtown East</td>\n",
       "      <td>No review</td>\n",
       "      <td>1771.630769</td>\n",
       "      <td>7.883492</td>\n",
       "      <td>Manhattan</td>\n",
       "    </tr>\n",
       "  </tbody>\n",
       "</table>\n",
       "</div>"
      ],
      "text/plain": [
       "                                  Hotel_Name     Review  Total_Review  \\\n",
       "520      Fantastic 3BR At Financial District  No review   1771.630769   \n",
       "521      3 Bedroom Apartment In Midtown East  No review   1771.630769   \n",
       "522  2BD 1BA Apartment At Financial District  No review   1771.630769   \n",
       "523         2BD 1BA Apartment At Wall Street  No review   1771.630769   \n",
       "524         Two BD Apartment At Midtown East  No review   1771.630769   \n",
       "\n",
       "       Rating                           Location  \n",
       "520  7.883492  Wall Street - Financial District   \n",
       "521  7.883492                         Manhattan   \n",
       "522  7.883492  Wall Street - Financial District   \n",
       "523  7.883492  Wall Street - Financial District   \n",
       "524  7.883492                         Manhattan   "
      ]
     },
     "execution_count": 257,
     "metadata": {},
     "output_type": "execute_result"
    }
   ],
   "source": [
    "data.tail()"
   ]
  },
  {
   "cell_type": "code",
   "execution_count": 258,
   "id": "43de5c33",
   "metadata": {},
   "outputs": [
    {
     "data": {
      "text/plain": [
       "0         Superb \n",
       "1           Good \n",
       "2           Good \n",
       "3      Very good \n",
       "4      Very good \n",
       "          ...    \n",
       "520     No review\n",
       "521     No review\n",
       "522     No review\n",
       "523     No review\n",
       "524     No review\n",
       "Name: Review, Length: 525, dtype: object"
      ]
     },
     "execution_count": 258,
     "metadata": {},
     "output_type": "execute_result"
    }
   ],
   "source": [
    "data.Review"
   ]
  },
  {
   "cell_type": "markdown",
   "id": "00d6a270",
   "metadata": {},
   "source": [
    "# EDA "
   ]
  },
  {
   "cell_type": "markdown",
   "id": "3c574aba",
   "metadata": {},
   "source": [
    "Exploratory Data Analysis or (EDA) is understanding the data sets by summarizing their main characteristics often plotting them visually. This step is very important especially when we arrive at modeling the data in order to apply Machine learning."
   ]
  },
  {
   "cell_type": "code",
   "execution_count": 259,
   "id": "98b04a69",
   "metadata": {},
   "outputs": [
    {
     "data": {
      "text/html": [
       "<div>\n",
       "<style scoped>\n",
       "    .dataframe tbody tr th:only-of-type {\n",
       "        vertical-align: middle;\n",
       "    }\n",
       "\n",
       "    .dataframe tbody tr th {\n",
       "        vertical-align: top;\n",
       "    }\n",
       "\n",
       "    .dataframe thead th {\n",
       "        text-align: right;\n",
       "    }\n",
       "</style>\n",
       "<table border=\"1\" class=\"dataframe\">\n",
       "  <thead>\n",
       "    <tr style=\"text-align: right;\">\n",
       "      <th></th>\n",
       "      <th>Total_Review</th>\n",
       "      <th>Rating</th>\n",
       "    </tr>\n",
       "  </thead>\n",
       "  <tbody>\n",
       "    <tr>\n",
       "      <th>count</th>\n",
       "      <td>525.000000</td>\n",
       "      <td>525.000000</td>\n",
       "    </tr>\n",
       "    <tr>\n",
       "      <th>mean</th>\n",
       "      <td>1771.630769</td>\n",
       "      <td>7.883492</td>\n",
       "    </tr>\n",
       "    <tr>\n",
       "      <th>std</th>\n",
       "      <td>1989.434764</td>\n",
       "      <td>0.685223</td>\n",
       "    </tr>\n",
       "    <tr>\n",
       "      <th>min</th>\n",
       "      <td>1.000000</td>\n",
       "      <td>1.000000</td>\n",
       "    </tr>\n",
       "    <tr>\n",
       "      <th>25%</th>\n",
       "      <td>664.000000</td>\n",
       "      <td>7.883492</td>\n",
       "    </tr>\n",
       "    <tr>\n",
       "      <th>50%</th>\n",
       "      <td>1771.630769</td>\n",
       "      <td>7.883492</td>\n",
       "    </tr>\n",
       "    <tr>\n",
       "      <th>75%</th>\n",
       "      <td>1771.630769</td>\n",
       "      <td>8.100000</td>\n",
       "    </tr>\n",
       "    <tr>\n",
       "      <th>max</th>\n",
       "      <td>16148.000000</td>\n",
       "      <td>10.000000</td>\n",
       "    </tr>\n",
       "  </tbody>\n",
       "</table>\n",
       "</div>"
      ],
      "text/plain": [
       "       Total_Review      Rating\n",
       "count    525.000000  525.000000\n",
       "mean    1771.630769    7.883492\n",
       "std     1989.434764    0.685223\n",
       "min        1.000000    1.000000\n",
       "25%      664.000000    7.883492\n",
       "50%     1771.630769    7.883492\n",
       "75%     1771.630769    8.100000\n",
       "max    16148.000000   10.000000"
      ]
     },
     "execution_count": 259,
     "metadata": {},
     "output_type": "execute_result"
    }
   ],
   "source": [
    "\n",
    "# the describe method will get the summary statistics for the numerical columns ..\n",
    "data.describe()"
   ]
  },
  {
   "cell_type": "code",
   "execution_count": 260,
   "id": "202331d5",
   "metadata": {},
   "outputs": [
    {
     "name": "stdout",
     "output_type": "stream",
     "text": [
      "                                            Hotel_Name  Rating\n",
      "143                   Thompson Central Park - New York    10.0\n",
      "271  FiDi Studio w Residents Bar Golf Simulator Gym...    10.0\n",
      "319                                       Hotel Beacon    10.0\n",
      "327                                  Chelsea Townhouse     9.7\n",
      "292                                   Casamia 36 Hotel     9.5\n",
      "314                                      Smyth Tribeca     9.4\n",
      "240  EVEN Hotel New York Times Square South, an IHG...     9.3\n",
      "297             Baccarat Hotel and Residences New York     9.3\n",
      "239                 Entire Apartment near Central Park     9.2\n",
      "207       Casablanca Hotel by Library Hotel Collection     9.2\n"
     ]
    }
   ],
   "source": [
    "top_rated = data.sort_values('Rating', ascending=False).head(10)\n",
    "print(top_rated[['Hotel_Name', 'Rating']])"
   ]
  },
  {
   "cell_type": "code",
   "execution_count": 261,
   "id": "0a4851ab",
   "metadata": {},
   "outputs": [
    {
     "name": "stdout",
     "output_type": "stream",
     "text": [
      "                                            Hotel_Name  Rating\n",
      "331                                Crosby Street Hotel     1.0\n",
      "270                                          The Plaza     3.8\n",
      "304                 Le Méridien New York, Fifth Avenue     5.3\n",
      "150  Hilton Garden Inn New York Manhattan Midtown East     5.6\n",
      "233       SoHo 2BR w WD Balcony nr Whole Foods NYC-892     5.6\n",
      "35                     The New Yorker, A Wyndham Hotel     5.6\n",
      "11                       The Manhattan at Times Square     5.6\n",
      "230                                      ASIATEL HOTEL     5.7\n",
      "55   Residence Inn by Marriott New York Manhattan/T...     5.9\n",
      "219           Equinox Hotel Hudson Yards New York City     6.0\n"
     ]
    }
   ],
   "source": [
    "bottom_rated = data.sort_values('Rating').head(10)\n",
    "print(bottom_rated[['Hotel_Name', 'Rating']])"
   ]
  },
  {
   "cell_type": "code",
   "execution_count": 262,
   "id": "2923fbbd",
   "metadata": {},
   "outputs": [
    {
     "name": "stdout",
     "output_type": "stream",
     "text": [
      "No review         200\n",
      "Very good         117\n",
      "Good              116\n",
      "Review score       31\n",
      "Fabulous           30\n",
      "Superb             16\n",
      "Superb 9.0          8\n",
      "Exceptional         5\n",
      "Exceptional 10      2\n",
      "Name: Review, dtype: int64\n"
     ]
    }
   ],
   "source": [
    "review_counts = data['Review'].value_counts()\n",
    "print(review_counts)"
   ]
  },
  {
   "cell_type": "code",
   "execution_count": 263,
   "id": "62dc63fb",
   "metadata": {},
   "outputs": [
    {
     "data": {
      "text/plain": [
       "Text(0.5, 1.0, 'Distribution of Ratings')"
      ]
     },
     "execution_count": 263,
     "metadata": {},
     "output_type": "execute_result"
    },
    {
     "data": {
      "image/png": "[encoded data removed]",
      "text/plain": [
       "<Figure size 720x216 with 1 Axes>"
      ]
     },
     "metadata": {
      "needs_background": "light"
     },
     "output_type": "display_data"
    }
   ],
   "source": [
    "sns.histplot(data = data\n",
    "            ,x ='Rating'\n",
    "            ,color = 'navy'\n",
    "             ,bins=20\n",
    "            )\n",
    "plt.title('Distribution of Ratings')"
   ]
  },
  {
   "cell_type": "code",
   "execution_count": 264,
   "id": "110e0360",
   "metadata": {},
   "outputs": [
    {
     "data": {
      "image/png": "[encoded data removed]",
      "text/plain": [
       "<Figure size 720x216 with 1 Axes>"
      ]
     },
     "metadata": {
      "needs_background": "light"
     },
     "output_type": "display_data"
    }
   ],
   "source": [
    "sns.countplot(data=data,y ='Location',color='salmon')\n",
    "plt.xticks(rotation=90)\n",
    "plt.title('Number of Reviews by Location')\n",
    "# Show the plot\n",
    "plt.show() "
   ]
  },
  {
   "cell_type": "code",
   "execution_count": null,
   "id": "44a9050c",
   "metadata": {},
   "outputs": [],
   "source": []
  }
 ],
 "metadata": {
  "kernelspec": {
   "display_name": "Python 3 (ipykernel)",
   "language": "python",
   "name": "python3"
  },
  "language_info": {
   "codemirror_mode": {
    "name": "ipython",
    "version": 3
   },
   "file_extension": ".py",
   "mimetype": "text/x-python",
   "name": "python",
   "nbconvert_exporter": "python",
   "pygments_lexer": "ipython3",
   "version": "3.9.12"
  }
 },
 "nbformat": 4,
 "nbformat_minor": 5
}
